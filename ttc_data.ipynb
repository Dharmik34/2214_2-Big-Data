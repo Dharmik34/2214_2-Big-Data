{
  "cells": [
    {
      "cell_type": "markdown",
      "metadata": {
        "id": "view-in-github",
        "colab_type": "text"
      },
      "source": [
        "<a href=\"https://colab.research.google.com/github/Dharmik34/2214_2-Big-Data/blob/main/ttc_data.ipynb\" target=\"_parent\"><img src=\"https://colab.research.google.com/assets/colab-badge.svg\" alt=\"Open In Colab\"/></a>"
      ]
    },
    {
      "cell_type": "code",
      "execution_count": null,
      "id": "a527351f",
      "metadata": {
        "id": "a527351f"
      },
      "outputs": [],
      "source": [
        "import pandas as pd\n",
        "ttc_data = pd.read_csv('ttc-bus-delay-data-2022.csv')"
      ]
    },
    {
      "cell_type": "code",
      "execution_count": null,
      "id": "da99dc5e",
      "metadata": {
        "colab": {
          "base_uri": "https://localhost:8080/",
          "height": 423
        },
        "id": "da99dc5e",
        "outputId": "13a0a174-10af-4e1a-e0d0-68f12339516f"
      },
      "outputs": [
        {
          "output_type": "execute_result",
          "data": {
            "text/plain": [
              "            Date Route   Time       Day                Location  \\\n",
              "0       1-Jan-22   320  02:00  Saturday        YONGE AND DUNDAS   \n",
              "1       1-Jan-22   325  02:00  Saturday  OVERLEA AND THORCLIFFE   \n",
              "2       1-Jan-22   320  02:00  Saturday       YONGE AND STEELES   \n",
              "3       1-Jan-22   320  02:07  Saturday       YONGE AND STEELES   \n",
              "4       1-Jan-22   320  02:13  Saturday       YONGE AND STEELES   \n",
              "...          ...   ...    ...       ...                     ...   \n",
              "27346  30-Jun-22   123  00:45  Thursday      SHERWAY GARDENS RD   \n",
              "27347  30-Jun-22   102  01:08  Thursday     WARDEN AND DANFORTH   \n",
              "27348  30-Jun-22    66  01:15  Thursday                 UNKNOWN   \n",
              "27349  30-Jun-22    32  01:33  Thursday        RENFORTH STATION   \n",
              "27350  30-Jun-22    32  01:55  Thursday     EGLINTON AND DUPLEX   \n",
              "\n",
              "                    Incident  Min Delay  Min Gap Direction  Vehicle  \n",
              "0              General Delay          0        0       NaN     8531  \n",
              "1                  Diversion        131      161         W     8658  \n",
              "2      Operations - Operator         17       20         S        0  \n",
              "3      Operations - Operator          4       11         S        0  \n",
              "4      Operations - Operator          4        8         S        0  \n",
              "...                      ...        ...      ...       ...      ...  \n",
              "27346  Operations - Operator         27       54         E     8088  \n",
              "27347  Operations - Operator         30       60         S     3416  \n",
              "27348  Operations - Operator         30       30       NaN        0  \n",
              "27349  Cleaning - Unsanitary         18       36         E     1202  \n",
              "27350  Cleaning - Unsanitary          8       16         W     1265  \n",
              "\n",
              "[27351 rows x 10 columns]"
            ],
            "text/html": [
              "\n",
              "  <div id=\"df-95140e46-3531-4664-b786-e50f61c392eb\">\n",
              "    <div class=\"colab-df-container\">\n",
              "      <div>\n",
              "<style scoped>\n",
              "    .dataframe tbody tr th:only-of-type {\n",
              "        vertical-align: middle;\n",
              "    }\n",
              "\n",
              "    .dataframe tbody tr th {\n",
              "        vertical-align: top;\n",
              "    }\n",
              "\n",
              "    .dataframe thead th {\n",
              "        text-align: right;\n",
              "    }\n",
              "</style>\n",
              "<table border=\"1\" class=\"dataframe\">\n",
              "  <thead>\n",
              "    <tr style=\"text-align: right;\">\n",
              "      <th></th>\n",
              "      <th>Date</th>\n",
              "      <th>Route</th>\n",
              "      <th>Time</th>\n",
              "      <th>Day</th>\n",
              "      <th>Location</th>\n",
              "      <th>Incident</th>\n",
              "      <th>Min Delay</th>\n",
              "      <th>Min Gap</th>\n",
              "      <th>Direction</th>\n",
              "      <th>Vehicle</th>\n",
              "    </tr>\n",
              "  </thead>\n",
              "  <tbody>\n",
              "    <tr>\n",
              "      <th>0</th>\n",
              "      <td>1-Jan-22</td>\n",
              "      <td>320</td>\n",
              "      <td>02:00</td>\n",
              "      <td>Saturday</td>\n",
              "      <td>YONGE AND DUNDAS</td>\n",
              "      <td>General Delay</td>\n",
              "      <td>0</td>\n",
              "      <td>0</td>\n",
              "      <td>NaN</td>\n",
              "      <td>8531</td>\n",
              "    </tr>\n",
              "    <tr>\n",
              "      <th>1</th>\n",
              "      <td>1-Jan-22</td>\n",
              "      <td>325</td>\n",
              "      <td>02:00</td>\n",
              "      <td>Saturday</td>\n",
              "      <td>OVERLEA AND THORCLIFFE</td>\n",
              "      <td>Diversion</td>\n",
              "      <td>131</td>\n",
              "      <td>161</td>\n",
              "      <td>W</td>\n",
              "      <td>8658</td>\n",
              "    </tr>\n",
              "    <tr>\n",
              "      <th>2</th>\n",
              "      <td>1-Jan-22</td>\n",
              "      <td>320</td>\n",
              "      <td>02:00</td>\n",
              "      <td>Saturday</td>\n",
              "      <td>YONGE AND STEELES</td>\n",
              "      <td>Operations - Operator</td>\n",
              "      <td>17</td>\n",
              "      <td>20</td>\n",
              "      <td>S</td>\n",
              "      <td>0</td>\n",
              "    </tr>\n",
              "    <tr>\n",
              "      <th>3</th>\n",
              "      <td>1-Jan-22</td>\n",
              "      <td>320</td>\n",
              "      <td>02:07</td>\n",
              "      <td>Saturday</td>\n",
              "      <td>YONGE AND STEELES</td>\n",
              "      <td>Operations - Operator</td>\n",
              "      <td>4</td>\n",
              "      <td>11</td>\n",
              "      <td>S</td>\n",
              "      <td>0</td>\n",
              "    </tr>\n",
              "    <tr>\n",
              "      <th>4</th>\n",
              "      <td>1-Jan-22</td>\n",
              "      <td>320</td>\n",
              "      <td>02:13</td>\n",
              "      <td>Saturday</td>\n",
              "      <td>YONGE AND STEELES</td>\n",
              "      <td>Operations - Operator</td>\n",
              "      <td>4</td>\n",
              "      <td>8</td>\n",
              "      <td>S</td>\n",
              "      <td>0</td>\n",
              "    </tr>\n",
              "    <tr>\n",
              "      <th>...</th>\n",
              "      <td>...</td>\n",
              "      <td>...</td>\n",
              "      <td>...</td>\n",
              "      <td>...</td>\n",
              "      <td>...</td>\n",
              "      <td>...</td>\n",
              "      <td>...</td>\n",
              "      <td>...</td>\n",
              "      <td>...</td>\n",
              "      <td>...</td>\n",
              "    </tr>\n",
              "    <tr>\n",
              "      <th>27346</th>\n",
              "      <td>30-Jun-22</td>\n",
              "      <td>123</td>\n",
              "      <td>00:45</td>\n",
              "      <td>Thursday</td>\n",
              "      <td>SHERWAY GARDENS RD</td>\n",
              "      <td>Operations - Operator</td>\n",
              "      <td>27</td>\n",
              "      <td>54</td>\n",
              "      <td>E</td>\n",
              "      <td>8088</td>\n",
              "    </tr>\n",
              "    <tr>\n",
              "      <th>27347</th>\n",
              "      <td>30-Jun-22</td>\n",
              "      <td>102</td>\n",
              "      <td>01:08</td>\n",
              "      <td>Thursday</td>\n",
              "      <td>WARDEN AND DANFORTH</td>\n",
              "      <td>Operations - Operator</td>\n",
              "      <td>30</td>\n",
              "      <td>60</td>\n",
              "      <td>S</td>\n",
              "      <td>3416</td>\n",
              "    </tr>\n",
              "    <tr>\n",
              "      <th>27348</th>\n",
              "      <td>30-Jun-22</td>\n",
              "      <td>66</td>\n",
              "      <td>01:15</td>\n",
              "      <td>Thursday</td>\n",
              "      <td>UNKNOWN</td>\n",
              "      <td>Operations - Operator</td>\n",
              "      <td>30</td>\n",
              "      <td>30</td>\n",
              "      <td>NaN</td>\n",
              "      <td>0</td>\n",
              "    </tr>\n",
              "    <tr>\n",
              "      <th>27349</th>\n",
              "      <td>30-Jun-22</td>\n",
              "      <td>32</td>\n",
              "      <td>01:33</td>\n",
              "      <td>Thursday</td>\n",
              "      <td>RENFORTH STATION</td>\n",
              "      <td>Cleaning - Unsanitary</td>\n",
              "      <td>18</td>\n",
              "      <td>36</td>\n",
              "      <td>E</td>\n",
              "      <td>1202</td>\n",
              "    </tr>\n",
              "    <tr>\n",
              "      <th>27350</th>\n",
              "      <td>30-Jun-22</td>\n",
              "      <td>32</td>\n",
              "      <td>01:55</td>\n",
              "      <td>Thursday</td>\n",
              "      <td>EGLINTON AND DUPLEX</td>\n",
              "      <td>Cleaning - Unsanitary</td>\n",
              "      <td>8</td>\n",
              "      <td>16</td>\n",
              "      <td>W</td>\n",
              "      <td>1265</td>\n",
              "    </tr>\n",
              "  </tbody>\n",
              "</table>\n",
              "<p>27351 rows × 10 columns</p>\n",
              "</div>\n",
              "      <button class=\"colab-df-convert\" onclick=\"convertToInteractive('df-95140e46-3531-4664-b786-e50f61c392eb')\"\n",
              "              title=\"Convert this dataframe to an interactive table.\"\n",
              "              style=\"display:none;\">\n",
              "        \n",
              "  <svg xmlns=\"http://www.w3.org/2000/svg\" height=\"24px\"viewBox=\"0 0 24 24\"\n",
              "       width=\"24px\">\n",
              "    <path d=\"M0 0h24v24H0V0z\" fill=\"none\"/>\n",
              "    <path d=\"M18.56 5.44l.94 2.06.94-2.06 2.06-.94-2.06-.94-.94-2.06-.94 2.06-2.06.94zm-11 1L8.5 8.5l.94-2.06 2.06-.94-2.06-.94L8.5 2.5l-.94 2.06-2.06.94zm10 10l.94 2.06.94-2.06 2.06-.94-2.06-.94-.94-2.06-.94 2.06-2.06.94z\"/><path d=\"M17.41 7.96l-1.37-1.37c-.4-.4-.92-.59-1.43-.59-.52 0-1.04.2-1.43.59L10.3 9.45l-7.72 7.72c-.78.78-.78 2.05 0 2.83L4 21.41c.39.39.9.59 1.41.59.51 0 1.02-.2 1.41-.59l7.78-7.78 2.81-2.81c.8-.78.8-2.07 0-2.86zM5.41 20L4 18.59l7.72-7.72 1.47 1.35L5.41 20z\"/>\n",
              "  </svg>\n",
              "      </button>\n",
              "      \n",
              "  <style>\n",
              "    .colab-df-container {\n",
              "      display:flex;\n",
              "      flex-wrap:wrap;\n",
              "      gap: 12px;\n",
              "    }\n",
              "\n",
              "    .colab-df-convert {\n",
              "      background-color: #E8F0FE;\n",
              "      border: none;\n",
              "      border-radius: 50%;\n",
              "      cursor: pointer;\n",
              "      display: none;\n",
              "      fill: #1967D2;\n",
              "      height: 32px;\n",
              "      padding: 0 0 0 0;\n",
              "      width: 32px;\n",
              "    }\n",
              "\n",
              "    .colab-df-convert:hover {\n",
              "      background-color: #E2EBFA;\n",
              "      box-shadow: 0px 1px 2px rgba(60, 64, 67, 0.3), 0px 1px 3px 1px rgba(60, 64, 67, 0.15);\n",
              "      fill: #174EA6;\n",
              "    }\n",
              "\n",
              "    [theme=dark] .colab-df-convert {\n",
              "      background-color: #3B4455;\n",
              "      fill: #D2E3FC;\n",
              "    }\n",
              "\n",
              "    [theme=dark] .colab-df-convert:hover {\n",
              "      background-color: #434B5C;\n",
              "      box-shadow: 0px 1px 3px 1px rgba(0, 0, 0, 0.15);\n",
              "      filter: drop-shadow(0px 1px 2px rgba(0, 0, 0, 0.3));\n",
              "      fill: #FFFFFF;\n",
              "    }\n",
              "  </style>\n",
              "\n",
              "      <script>\n",
              "        const buttonEl =\n",
              "          document.querySelector('#df-95140e46-3531-4664-b786-e50f61c392eb button.colab-df-convert');\n",
              "        buttonEl.style.display =\n",
              "          google.colab.kernel.accessAllowed ? 'block' : 'none';\n",
              "\n",
              "        async function convertToInteractive(key) {\n",
              "          const element = document.querySelector('#df-95140e46-3531-4664-b786-e50f61c392eb');\n",
              "          const dataTable =\n",
              "            await google.colab.kernel.invokeFunction('convertToInteractive',\n",
              "                                                     [key], {});\n",
              "          if (!dataTable) return;\n",
              "\n",
              "          const docLinkHtml = 'Like what you see? Visit the ' +\n",
              "            '<a target=\"_blank\" href=https://colab.research.google.com/notebooks/data_table.ipynb>data table notebook</a>'\n",
              "            + ' to learn more about interactive tables.';\n",
              "          element.innerHTML = '';\n",
              "          dataTable['output_type'] = 'display_data';\n",
              "          await google.colab.output.renderOutput(dataTable, element);\n",
              "          const docLink = document.createElement('div');\n",
              "          docLink.innerHTML = docLinkHtml;\n",
              "          element.appendChild(docLink);\n",
              "        }\n",
              "      </script>\n",
              "    </div>\n",
              "  </div>\n",
              "  "
            ]
          },
          "metadata": {},
          "execution_count": 4
        }
      ],
      "source": [
        "ttc_data"
      ]
    },
    {
      "cell_type": "code",
      "execution_count": null,
      "id": "2c4e6514",
      "metadata": {
        "colab": {
          "base_uri": "https://localhost:8080/"
        },
        "id": "2c4e6514",
        "outputId": "f3f57111-768c-41a3-b6c8-afc0d0a9ea06"
      },
      "outputs": [
        {
          "output_type": "execute_result",
          "data": {
            "text/plain": [
              "Date            0\n",
              "Route         164\n",
              "Time            0\n",
              "Day             0\n",
              "Location        0\n",
              "Incident        0\n",
              "Min Delay       0\n",
              "Min Gap         0\n",
              "Direction    5577\n",
              "Vehicle         0\n",
              "dtype: int64"
            ]
          },
          "metadata": {},
          "execution_count": 5
        }
      ],
      "source": [
        "ttc_data.isnull().sum()"
      ]
    },
    {
      "cell_type": "code",
      "execution_count": null,
      "id": "4a159186",
      "metadata": {
        "colab": {
          "base_uri": "https://localhost:8080/",
          "height": 423
        },
        "id": "4a159186",
        "outputId": "9646c77e-cf86-49bd-be88-b922513e82b5"
      },
      "outputs": [
        {
          "output_type": "execute_result",
          "data": {
            "text/plain": [
              "            Date Route   Time       Day                Location  \\\n",
              "0       1-Jan-22   320  02:00  Saturday        YONGE AND DUNDAS   \n",
              "1       1-Jan-22   325  02:00  Saturday  OVERLEA AND THORCLIFFE   \n",
              "2       1-Jan-22   320  02:00  Saturday       YONGE AND STEELES   \n",
              "3       1-Jan-22   320  02:07  Saturday       YONGE AND STEELES   \n",
              "4       1-Jan-22   320  02:13  Saturday       YONGE AND STEELES   \n",
              "...          ...   ...    ...       ...                     ...   \n",
              "27346  30-Jun-22   123  00:45  Thursday      SHERWAY GARDENS RD   \n",
              "27347  30-Jun-22   102  01:08  Thursday     WARDEN AND DANFORTH   \n",
              "27348  30-Jun-22    66  01:15  Thursday                 UNKNOWN   \n",
              "27349  30-Jun-22    32  01:33  Thursday        RENFORTH STATION   \n",
              "27350  30-Jun-22    32  01:55  Thursday     EGLINTON AND DUPLEX   \n",
              "\n",
              "                    Incident  Min Delay  Min Gap  Vehicle  \n",
              "0              General Delay          0        0     8531  \n",
              "1                  Diversion        131      161     8658  \n",
              "2      Operations - Operator         17       20        0  \n",
              "3      Operations - Operator          4       11        0  \n",
              "4      Operations - Operator          4        8        0  \n",
              "...                      ...        ...      ...      ...  \n",
              "27346  Operations - Operator         27       54     8088  \n",
              "27347  Operations - Operator         30       60     3416  \n",
              "27348  Operations - Operator         30       30        0  \n",
              "27349  Cleaning - Unsanitary         18       36     1202  \n",
              "27350  Cleaning - Unsanitary          8       16     1265  \n",
              "\n",
              "[27351 rows x 9 columns]"
            ],
            "text/html": [
              "\n",
              "  <div id=\"df-3f696ec3-c59f-4fc1-b51f-db155325607f\">\n",
              "    <div class=\"colab-df-container\">\n",
              "      <div>\n",
              "<style scoped>\n",
              "    .dataframe tbody tr th:only-of-type {\n",
              "        vertical-align: middle;\n",
              "    }\n",
              "\n",
              "    .dataframe tbody tr th {\n",
              "        vertical-align: top;\n",
              "    }\n",
              "\n",
              "    .dataframe thead th {\n",
              "        text-align: right;\n",
              "    }\n",
              "</style>\n",
              "<table border=\"1\" class=\"dataframe\">\n",
              "  <thead>\n",
              "    <tr style=\"text-align: right;\">\n",
              "      <th></th>\n",
              "      <th>Date</th>\n",
              "      <th>Route</th>\n",
              "      <th>Time</th>\n",
              "      <th>Day</th>\n",
              "      <th>Location</th>\n",
              "      <th>Incident</th>\n",
              "      <th>Min Delay</th>\n",
              "      <th>Min Gap</th>\n",
              "      <th>Vehicle</th>\n",
              "    </tr>\n",
              "  </thead>\n",
              "  <tbody>\n",
              "    <tr>\n",
              "      <th>0</th>\n",
              "      <td>1-Jan-22</td>\n",
              "      <td>320</td>\n",
              "      <td>02:00</td>\n",
              "      <td>Saturday</td>\n",
              "      <td>YONGE AND DUNDAS</td>\n",
              "      <td>General Delay</td>\n",
              "      <td>0</td>\n",
              "      <td>0</td>\n",
              "      <td>8531</td>\n",
              "    </tr>\n",
              "    <tr>\n",
              "      <th>1</th>\n",
              "      <td>1-Jan-22</td>\n",
              "      <td>325</td>\n",
              "      <td>02:00</td>\n",
              "      <td>Saturday</td>\n",
              "      <td>OVERLEA AND THORCLIFFE</td>\n",
              "      <td>Diversion</td>\n",
              "      <td>131</td>\n",
              "      <td>161</td>\n",
              "      <td>8658</td>\n",
              "    </tr>\n",
              "    <tr>\n",
              "      <th>2</th>\n",
              "      <td>1-Jan-22</td>\n",
              "      <td>320</td>\n",
              "      <td>02:00</td>\n",
              "      <td>Saturday</td>\n",
              "      <td>YONGE AND STEELES</td>\n",
              "      <td>Operations - Operator</td>\n",
              "      <td>17</td>\n",
              "      <td>20</td>\n",
              "      <td>0</td>\n",
              "    </tr>\n",
              "    <tr>\n",
              "      <th>3</th>\n",
              "      <td>1-Jan-22</td>\n",
              "      <td>320</td>\n",
              "      <td>02:07</td>\n",
              "      <td>Saturday</td>\n",
              "      <td>YONGE AND STEELES</td>\n",
              "      <td>Operations - Operator</td>\n",
              "      <td>4</td>\n",
              "      <td>11</td>\n",
              "      <td>0</td>\n",
              "    </tr>\n",
              "    <tr>\n",
              "      <th>4</th>\n",
              "      <td>1-Jan-22</td>\n",
              "      <td>320</td>\n",
              "      <td>02:13</td>\n",
              "      <td>Saturday</td>\n",
              "      <td>YONGE AND STEELES</td>\n",
              "      <td>Operations - Operator</td>\n",
              "      <td>4</td>\n",
              "      <td>8</td>\n",
              "      <td>0</td>\n",
              "    </tr>\n",
              "    <tr>\n",
              "      <th>...</th>\n",
              "      <td>...</td>\n",
              "      <td>...</td>\n",
              "      <td>...</td>\n",
              "      <td>...</td>\n",
              "      <td>...</td>\n",
              "      <td>...</td>\n",
              "      <td>...</td>\n",
              "      <td>...</td>\n",
              "      <td>...</td>\n",
              "    </tr>\n",
              "    <tr>\n",
              "      <th>27346</th>\n",
              "      <td>30-Jun-22</td>\n",
              "      <td>123</td>\n",
              "      <td>00:45</td>\n",
              "      <td>Thursday</td>\n",
              "      <td>SHERWAY GARDENS RD</td>\n",
              "      <td>Operations - Operator</td>\n",
              "      <td>27</td>\n",
              "      <td>54</td>\n",
              "      <td>8088</td>\n",
              "    </tr>\n",
              "    <tr>\n",
              "      <th>27347</th>\n",
              "      <td>30-Jun-22</td>\n",
              "      <td>102</td>\n",
              "      <td>01:08</td>\n",
              "      <td>Thursday</td>\n",
              "      <td>WARDEN AND DANFORTH</td>\n",
              "      <td>Operations - Operator</td>\n",
              "      <td>30</td>\n",
              "      <td>60</td>\n",
              "      <td>3416</td>\n",
              "    </tr>\n",
              "    <tr>\n",
              "      <th>27348</th>\n",
              "      <td>30-Jun-22</td>\n",
              "      <td>66</td>\n",
              "      <td>01:15</td>\n",
              "      <td>Thursday</td>\n",
              "      <td>UNKNOWN</td>\n",
              "      <td>Operations - Operator</td>\n",
              "      <td>30</td>\n",
              "      <td>30</td>\n",
              "      <td>0</td>\n",
              "    </tr>\n",
              "    <tr>\n",
              "      <th>27349</th>\n",
              "      <td>30-Jun-22</td>\n",
              "      <td>32</td>\n",
              "      <td>01:33</td>\n",
              "      <td>Thursday</td>\n",
              "      <td>RENFORTH STATION</td>\n",
              "      <td>Cleaning - Unsanitary</td>\n",
              "      <td>18</td>\n",
              "      <td>36</td>\n",
              "      <td>1202</td>\n",
              "    </tr>\n",
              "    <tr>\n",
              "      <th>27350</th>\n",
              "      <td>30-Jun-22</td>\n",
              "      <td>32</td>\n",
              "      <td>01:55</td>\n",
              "      <td>Thursday</td>\n",
              "      <td>EGLINTON AND DUPLEX</td>\n",
              "      <td>Cleaning - Unsanitary</td>\n",
              "      <td>8</td>\n",
              "      <td>16</td>\n",
              "      <td>1265</td>\n",
              "    </tr>\n",
              "  </tbody>\n",
              "</table>\n",
              "<p>27351 rows × 9 columns</p>\n",
              "</div>\n",
              "      <button class=\"colab-df-convert\" onclick=\"convertToInteractive('df-3f696ec3-c59f-4fc1-b51f-db155325607f')\"\n",
              "              title=\"Convert this dataframe to an interactive table.\"\n",
              "              style=\"display:none;\">\n",
              "        \n",
              "  <svg xmlns=\"http://www.w3.org/2000/svg\" height=\"24px\"viewBox=\"0 0 24 24\"\n",
              "       width=\"24px\">\n",
              "    <path d=\"M0 0h24v24H0V0z\" fill=\"none\"/>\n",
              "    <path d=\"M18.56 5.44l.94 2.06.94-2.06 2.06-.94-2.06-.94-.94-2.06-.94 2.06-2.06.94zm-11 1L8.5 8.5l.94-2.06 2.06-.94-2.06-.94L8.5 2.5l-.94 2.06-2.06.94zm10 10l.94 2.06.94-2.06 2.06-.94-2.06-.94-.94-2.06-.94 2.06-2.06.94z\"/><path d=\"M17.41 7.96l-1.37-1.37c-.4-.4-.92-.59-1.43-.59-.52 0-1.04.2-1.43.59L10.3 9.45l-7.72 7.72c-.78.78-.78 2.05 0 2.83L4 21.41c.39.39.9.59 1.41.59.51 0 1.02-.2 1.41-.59l7.78-7.78 2.81-2.81c.8-.78.8-2.07 0-2.86zM5.41 20L4 18.59l7.72-7.72 1.47 1.35L5.41 20z\"/>\n",
              "  </svg>\n",
              "      </button>\n",
              "      \n",
              "  <style>\n",
              "    .colab-df-container {\n",
              "      display:flex;\n",
              "      flex-wrap:wrap;\n",
              "      gap: 12px;\n",
              "    }\n",
              "\n",
              "    .colab-df-convert {\n",
              "      background-color: #E8F0FE;\n",
              "      border: none;\n",
              "      border-radius: 50%;\n",
              "      cursor: pointer;\n",
              "      display: none;\n",
              "      fill: #1967D2;\n",
              "      height: 32px;\n",
              "      padding: 0 0 0 0;\n",
              "      width: 32px;\n",
              "    }\n",
              "\n",
              "    .colab-df-convert:hover {\n",
              "      background-color: #E2EBFA;\n",
              "      box-shadow: 0px 1px 2px rgba(60, 64, 67, 0.3), 0px 1px 3px 1px rgba(60, 64, 67, 0.15);\n",
              "      fill: #174EA6;\n",
              "    }\n",
              "\n",
              "    [theme=dark] .colab-df-convert {\n",
              "      background-color: #3B4455;\n",
              "      fill: #D2E3FC;\n",
              "    }\n",
              "\n",
              "    [theme=dark] .colab-df-convert:hover {\n",
              "      background-color: #434B5C;\n",
              "      box-shadow: 0px 1px 3px 1px rgba(0, 0, 0, 0.15);\n",
              "      filter: drop-shadow(0px 1px 2px rgba(0, 0, 0, 0.3));\n",
              "      fill: #FFFFFF;\n",
              "    }\n",
              "  </style>\n",
              "\n",
              "      <script>\n",
              "        const buttonEl =\n",
              "          document.querySelector('#df-3f696ec3-c59f-4fc1-b51f-db155325607f button.colab-df-convert');\n",
              "        buttonEl.style.display =\n",
              "          google.colab.kernel.accessAllowed ? 'block' : 'none';\n",
              "\n",
              "        async function convertToInteractive(key) {\n",
              "          const element = document.querySelector('#df-3f696ec3-c59f-4fc1-b51f-db155325607f');\n",
              "          const dataTable =\n",
              "            await google.colab.kernel.invokeFunction('convertToInteractive',\n",
              "                                                     [key], {});\n",
              "          if (!dataTable) return;\n",
              "\n",
              "          const docLinkHtml = 'Like what you see? Visit the ' +\n",
              "            '<a target=\"_blank\" href=https://colab.research.google.com/notebooks/data_table.ipynb>data table notebook</a>'\n",
              "            + ' to learn more about interactive tables.';\n",
              "          element.innerHTML = '';\n",
              "          dataTable['output_type'] = 'display_data';\n",
              "          await google.colab.output.renderOutput(dataTable, element);\n",
              "          const docLink = document.createElement('div');\n",
              "          docLink.innerHTML = docLinkHtml;\n",
              "          element.appendChild(docLink);\n",
              "        }\n",
              "      </script>\n",
              "    </div>\n",
              "  </div>\n",
              "  "
            ]
          },
          "metadata": {},
          "execution_count": 6
        }
      ],
      "source": [
        "ttc_data = ttc_data.drop(['Direction'],axis=1)\n",
        "\n",
        "ttc_data"
      ]
    },
    {
      "cell_type": "code",
      "execution_count": null,
      "id": "4935aff6",
      "metadata": {
        "colab": {
          "base_uri": "https://localhost:8080/"
        },
        "id": "4935aff6",
        "outputId": "15c2cc2d-3f07-466b-8564-6465b881f7fe"
      },
      "outputs": [
        {
          "output_type": "execute_result",
          "data": {
            "text/plain": [
              "0        False\n",
              "1        False\n",
              "2        False\n",
              "3        False\n",
              "4        False\n",
              "         ...  \n",
              "27346    False\n",
              "27347    False\n",
              "27348    False\n",
              "27349    False\n",
              "27350    False\n",
              "Name: Route, Length: 27351, dtype: bool"
            ]
          },
          "metadata": {},
          "execution_count": 7
        }
      ],
      "source": [
        "ttc_data['Route'].isnull()"
      ]
    },
    {
      "cell_type": "code",
      "execution_count": null,
      "id": "b774dd2d",
      "metadata": {
        "id": "b774dd2d"
      },
      "outputs": [],
      "source": []
    },
    {
      "cell_type": "code",
      "execution_count": null,
      "id": "73713ae4",
      "metadata": {
        "colab": {
          "base_uri": "https://localhost:8080/"
        },
        "id": "73713ae4",
        "outputId": "6d56b76d-35fa-4eab-eb06-b3eab3945654"
      },
      "outputs": [
        {
          "output_type": "execute_result",
          "data": {
            "text/plain": [
              "Date          0\n",
              "Route        26\n",
              "Time          0\n",
              "Day           0\n",
              "Location      0\n",
              "Incident      0\n",
              "Min Delay     0\n",
              "Min Gap       0\n",
              "Vehicle       0\n",
              "dtype: int64"
            ]
          },
          "metadata": {},
          "execution_count": 9
        }
      ],
      "source": [
        "ttc_data.isnull().sum()"
      ]
    },
    {
      "cell_type": "code",
      "execution_count": null,
      "id": "44453947",
      "metadata": {
        "colab": {
          "base_uri": "https://localhost:8080/"
        },
        "id": "44453947",
        "outputId": "d5f5d3e4-3fc0-4fb5-af69-49be90bbbc32"
      },
      "outputs": [
        {
          "output_type": "execute_result",
          "data": {
            "text/plain": [
              "array([131,  17,   4,  30,  15,  16,  10,  33,   3,  11,  38,  23,  20,\n",
              "         8, 106,  27,   9,   7,  12,  24,   6,  22,  18,  25,  13,  26,\n",
              "        36,  29,  28,  80,  19,  50,  78,  60, 140, 200,  21,  14,  35,\n",
              "       155,  72,   5,  79,  32, 227,  34, 103, 526,  46, 136,   2, 132,\n",
              "        42,  83, 150,  44, 269, 102,   1, 280,  96,  88, 205, 368, 120,\n",
              "       127,  41, 151, 278, 291,  49, 130,  61, 249, 288, 290,  68, 284,\n",
              "        57, 175, 270,  43, 318,  40,  37,  74,  53,  39,  92, 247,  48,\n",
              "       159,  70,  51, 125,  94,  64, 337, 161,  52,  58,  31, 108,  47,\n",
              "        45, 119,  67, 114, 602, 107, 117, 361, 360, 600, 999, 336, 323,\n",
              "       121,  91, 113, 157,  55, 115, 708, 502, 116, 215, 259, 411, 226,\n",
              "        85,  84, 162, 160, 223, 656, 110, 294, 881, 672, 560, 403,  76,\n",
              "       128, 611, 181,  63, 625, 437, 471, 325, 183,  66, 124, 267,  93,\n",
              "       244, 112, 530,  86, 167,  98,  71, 720, 145, 105,  73, 275, 758,\n",
              "       139, 659, 149,  59, 807, 900, 283, 171, 189, 780,  90, 345, 187,\n",
              "        54, 456,  75, 240, 386, 250, 390, 144, 382, 330, 239, 235, 169,\n",
              "        65, 840, 123, 146, 148, 949, 636, 682, 711, 493, 109, 238,  62,\n",
              "       245, 681, 660, 129, 268,  77, 135, 180, 182, 142, 213, 890, 678,\n",
              "       204, 994, 895, 320, 964, 938, 454, 210, 960,  82, 100, 234, 225,\n",
              "       375, 480, 154, 453, 153, 395, 358, 335, 261, 202,  95, 417, 191,\n",
              "       165, 257, 931, 122, 310, 420, 622, 216, 147, 907, 289, 174, 510,\n",
              "        56, 359, 500, 133, 237, 260, 300, 220, 232, 272, 138, 126, 137,\n",
              "       197,  69, 158, 164, 262, 178, 101, 196, 236, 433, 201, 195, 499,\n",
              "        89, 152,  99, 211, 255, 104, 224,  87, 207, 118, 212, 342, 219,\n",
              "       285, 452, 134, 156, 246,  81, 366, 402, 469, 455, 190, 271, 430,\n",
              "       186, 319, 746, 194, 423, 533, 254, 343, 304, 901, 830, 229, 228,\n",
              "       357, 761, 735,  97, 647, 287, 185, 878, 628, 654, 230, 349, 598,\n",
              "       321, 351, 243, 173, 365, 273, 400, 685, 491, 630, 299, 141, 536,\n",
              "       333, 393, 263, 340, 143, 307, 296, 253, 748, 208, 241, 363, 463,\n",
              "       177, 869, 274, 670, 176, 856, 221, 532, 497, 305])"
            ]
          },
          "metadata": {},
          "execution_count": 10
        }
      ],
      "source": [
        "ttc_data['Min Delay'].unique()"
      ]
    },
    {
      "cell_type": "code",
      "execution_count": null,
      "id": "d8b00c60",
      "metadata": {
        "colab": {
          "base_uri": "https://localhost:8080/",
          "height": 421
        },
        "id": "d8b00c60",
        "outputId": "621735a8-f435-4769-a461-720db43c861d"
      },
      "outputs": [
        {
          "output_type": "display_data",
          "data": {
            "text/plain": [
              "<Figure size 432x288 with 1 Axes>"
            ],
            "image/png": "[encoded data removed]"
          },
          "metadata": {
            "needs_background": "light"
          }
        }
      ],
      "source": [
        "\n",
        "import matplotlib.pyplot as plt\n",
        "plt.bar(ttc_data['Incident'],ttc_data['Min Delay'],color='Black',width = 0.5)\n",
        "plt.xticks(rotation=90)\n",
        "plt.show()"
      ]
    },
    {
      "cell_type": "code",
      "execution_count": null,
      "id": "470f49d2",
      "metadata": {
        "colab": {
          "base_uri": "https://localhost:8080/",
          "height": 265
        },
        "id": "470f49d2",
        "outputId": "2a95261f-2475-40a9-9118-5421c425bb17"
      },
      "outputs": [
        {
          "output_type": "display_data",
          "data": {
            "text/plain": [
              "<Figure size 432x288 with 1 Axes>"
            ],
            "image/png": "[encoded data removed]"
          },
          "metadata": {
            "needs_background": "light"
          }
        }
      ],
      "source": [
        "diff_colors=['red','green','blue','black','yellow','grey','brown']\n",
        "day = ttc_data.groupby(ttc_data['Day'])['Min Delay'].sum().reset_index()\n",
        "day_ordered = day.sort_values(by='Min Delay',ascending=False)\n",
        "day_ordered\n",
        "plt.bar('Day','Min Delay',data=day_ordered,color=diff_colors)\n",
        "plt.show()"
      ]
    },
    {
      "cell_type": "code",
      "execution_count": null,
      "id": "e65e6a8d",
      "metadata": {
        "colab": {
          "base_uri": "https://localhost:8080/",
          "height": 493
        },
        "id": "e65e6a8d",
        "outputId": "75dc5def-362b-4e09-824e-061b93fe4122"
      },
      "outputs": [
        {
          "output_type": "stream",
          "name": "stderr",
          "text": [
            "<ipython-input-13-58908ea386b1>:3: SettingWithCopyWarning: \n",
            "A value is trying to be set on a copy of a slice from a DataFrame.\n",
            "Try using .loc[row_indexer,col_indexer] = value instead\n",
            "\n",
            "See the caveats in the documentation: https://pandas.pydata.org/pandas-docs/stable/user_guide/indexing.html#returning-a-view-versus-a-copy\n",
            "  ttc_data['Time'] = pd.to_datetime(df['Time'], format='%H:%M').dt.time\n",
            "<ipython-input-13-58908ea386b1>:5: SettingWithCopyWarning: \n",
            "A value is trying to be set on a copy of a slice from a DataFrame.\n",
            "Try using .loc[row_indexer,col_indexer] = value instead\n",
            "\n",
            "See the caveats in the documentation: https://pandas.pydata.org/pandas-docs/stable/user_guide/indexing.html#returning-a-view-versus-a-copy\n",
            "  ttc_data['Part of Day'] = ttc_data['Time'].apply(lambda x: 'Day' if pd.to_datetime(x,format='%H:%M:%S') >= pd.to_datetime('05:00:00',format='%H:%M:%S') and pd.to_datetime(x,format='%H:%M:%S') <= pd.to_datetime('10:00:00',format='%H:%M:%S') else ('Evening' if pd.to_datetime(x,format='%H:%M:%S') > pd.to_datetime('05:00:00',format='%H:%M:%S') and pd.to_datetime(x,format='%H:%M:%S') < pd.to_datetime('22:00:00',format='%H:%M:%S') else 'Night'))\n"
          ]
        },
        {
          "output_type": "display_data",
          "data": {
            "text/plain": [
              "<Figure size 432x288 with 1 Axes>"
            ],
            "image/png": "[encoded data removed]"
          },
          "metadata": {
            "needs_background": "light"
          }
        }
      ],
      "source": [
        "pd.set_option('display.max_rows', None)\n",
        "df = pd.DataFrame(data=ttc_data, columns=['Time'])\n",
        "ttc_data['Time'] = pd.to_datetime(df['Time'], format='%H:%M').dt.time\n",
        "ttc_data['Time']\n",
        "ttc_data['Part of Day'] = ttc_data['Time'].apply(lambda x: 'Day' if pd.to_datetime(x,format='%H:%M:%S') >= pd.to_datetime('05:00:00',format='%H:%M:%S') and pd.to_datetime(x,format='%H:%M:%S') <= pd.to_datetime('10:00:00',format='%H:%M:%S') else ('Evening' if pd.to_datetime(x,format='%H:%M:%S') > pd.to_datetime('05:00:00',format='%H:%M:%S') and pd.to_datetime(x,format='%H:%M:%S') < pd.to_datetime('22:00:00',format='%H:%M:%S') else 'Night'))\n",
        "\n",
        "plt.bar('Part of Day','Min Delay',data=ttc_data)\n",
        "plt.show()"
      ]
    },
    {
      "cell_type": "code",
      "execution_count": null,
      "id": "591b3e04",
      "metadata": {
        "colab": {
          "base_uri": "https://localhost:8080/"
        },
        "id": "591b3e04",
        "outputId": "43aa1bea-bbca-41cc-ac30-2a21328d5789"
      },
      "outputs": [
        {
          "output_type": "execute_result",
          "data": {
            "text/plain": [
              "array(['325', '320', '363', '300', '47', '45', '32', '39', '53', '29',\n",
              "       '334', '25', '7', '36', '96', '162', '35', '74', '52', '14', '95',\n",
              "       '79', '85', '20', '41', '46', '960', '42', '116', '43', '129',\n",
              "       '54', '89', '11', '102', '70', '124', '24', '88', '935', '127',\n",
              "       '37', '60', '17', '34', '72', '91', '75', '86', '19', '97', '40',\n",
              "       '78', '62', '189', '121', '100', '94', '134', '22', '84', '165',\n",
              "       '501', '131', '900', '123', '38', '76', '110', '112', '66', '108',\n",
              "       '69', '61', '87', '73', '68', '63', '26', '71', '504', '161', '57',\n",
              "       '21', '105', '130', '118', '67', '44', '90', '106', '56', '307',\n",
              "       '168', '15', '937', '171', '952', '989', '119', '902', '953',\n",
              "       '925', '944', '941', '125', '50', '984', '939', '16', '996', '13',\n",
              "       '80', '81', '927', '905', '133', '160', '107', '109', '111', '98',\n",
              "       '122', '924', '48', '995', '23', '99', '65', '985', '135', '126',\n",
              "       '986', '506', '929', '77', '353', '352', '354', '945', '120', '31',\n",
              "       '104', '169', '324', '954', '30', '59', '113', '12', '49', '600',\n",
              "       '336', '167', '82', '512', '33', '64', '332', '339', '101', '83',\n",
              "       '396', '343', '51', nan, '384', '115', '92', '8', '335', '545',\n",
              "       '9505', '152', '337', '55', '10', '9', '28', '312', '395', '341',\n",
              "       '132', '3', '385', '999', '445', '93', '329', 'RAD', '505', '1',\n",
              "       '302', '27', '2', '315', '322', '6', '852', '9896', '841', '874',\n",
              "       'OTC', '725', '1232', '365', '927 HIGHWAY 27', '117', '943', '509',\n",
              "       '968', '741', '172', '175', '939 FINCH EXPRESS / 39', '652', '913'],\n",
              "      dtype=object)"
            ]
          },
          "metadata": {},
          "execution_count": 14
        }
      ],
      "source": [
        "ttc_data['Route'].unique()"
      ]
    },
    {
      "cell_type": "code",
      "execution_count": null,
      "id": "1e37c55e",
      "metadata": {
        "colab": {
          "base_uri": "https://localhost:8080/",
          "height": 283
        },
        "id": "1e37c55e",
        "outputId": "5745082e-d521-4604-83f5-8c5480e9c016"
      },
      "outputs": [
        {
          "output_type": "execute_result",
          "data": {
            "text/plain": [
              "<BarContainer object of 10 artists>"
            ]
          },
          "metadata": {},
          "execution_count": 15
        },
        {
          "output_type": "display_data",
          "data": {
            "text/plain": [
              "<Figure size 432x288 with 1 Axes>"
            ],
            "image/png": "[encoded data removed]"
          },
          "metadata": {
            "needs_background": "light"
          }
        }
      ],
      "source": [
        "ttc_route_delay = ttc_data.groupby(by='Route')['Min Delay'].sum().reset_index().sort_values(by=\"Min Delay\",ascending=False).head(10)\n",
        "plt.bar('Route','Min Delay',data=ttc_route_delay,width=0.5)"
      ]
    },
    {
      "cell_type": "code",
      "execution_count": null,
      "id": "03a1824c",
      "metadata": {
        "colab": {
          "base_uri": "https://localhost:8080/",
          "height": 381
        },
        "id": "03a1824c",
        "outputId": "372b2893-0a5d-4a2f-881f-3d164430f9be"
      },
      "outputs": [
        {
          "output_type": "execute_result",
          "data": {
            "text/plain": [
              "([0, 1, 2, 3, 4, 5, 6, 7, 8, 9], <a list of 10 Text major ticklabel objects>)"
            ]
          },
          "metadata": {},
          "execution_count": 16
        },
        {
          "output_type": "display_data",
          "data": {
            "text/plain": [
              "<Figure size 432x288 with 1 Axes>"
            ],
            "image/png": "[encoded data removed]"
          },
          "metadata": {
            "needs_background": "light"
          }
        }
      ],
      "source": [
        "ttc_route_incident = ttc_data.groupby(by='Incident')['Route'].count().reset_index().sort_values(by='Route',ascending=False).head(10)\n",
        "plt.bar('Incident','Route',data=ttc_route_incident)\n",
        "plt.xticks(rotation=90)"
      ]
    },
    {
      "cell_type": "code",
      "execution_count": null,
      "id": "3e72d03e",
      "metadata": {
        "colab": {
          "base_uri": "https://localhost:8080/"
        },
        "id": "3e72d03e",
        "outputId": "ec327b83-e89d-4fd7-843e-ebcd1d619490"
      },
      "outputs": [
        {
          "output_type": "stream",
          "name": "stderr",
          "text": [
            "<ipython-input-26-6ee96284c99d>:1: SettingWithCopyWarning: \n",
            "A value is trying to be set on a copy of a slice from a DataFrame.\n",
            "Try using .loc[row_indexer,col_indexer] = value instead\n",
            "\n",
            "See the caveats in the documentation: https://pandas.pydata.org/pandas-docs/stable/user_guide/indexing.html#returning-a-view-versus-a-copy\n",
            "  ttc_data['Month'] = pd.to_datetime(ttc_data['Date'],format='%d-%b-%y').dt.strftime('%b')\n"
          ]
        }
      ],
      "source": [
        "ttc_data['Month'] = pd.to_datetime(ttc_data['Date'],format='%d-%b-%y').dt.strftime('%b')"
      ]
    },
    {
      "cell_type": "code",
      "execution_count": null,
      "id": "f2ba7bee",
      "metadata": {
        "colab": {
          "base_uri": "https://localhost:8080/",
          "height": 265
        },
        "id": "f2ba7bee",
        "outputId": "26e3e6c4-42bf-4c0e-b468-2bd8ff62ba57"
      },
      "outputs": [
        {
          "output_type": "display_data",
          "data": {
            "text/plain": [
              "<Figure size 432x288 with 1 Axes>"
            ],
            "image/png": "[encoded data removed]"
          },
          "metadata": {
            "needs_background": "light"
          }
        }
      ],
      "source": [
        "months = [\"Jan\", \"Feb\", \"Mar\", \"Apr\", \"May\", \"Jun\", \"Jul\", \"Aug\", \"Sep\", \"Oct\", \"Nov\", \"Dec\"]\n",
        "month = ttc_data.groupby('Month')['Min Delay'].sum().reset_index()\n",
        "month['Month'] = pd.Categorical(month['Month'],categories=months)\n",
        "month_sorted = month.sort_values(by='Month')\n",
        "plt.bar(month_sorted['Month'],month_sorted['Min Delay'])\n",
        "plt.show()"
      ]
    },
    {
      "cell_type": "code",
      "execution_count": null,
      "id": "831505e3",
      "metadata": {
        "colab": {
          "base_uri": "https://localhost:8080/",
          "height": 265
        },
        "id": "831505e3",
        "outputId": "6b78d29b-1beb-4dcb-d175-5612bc78d020"
      },
      "outputs": [
        {
          "output_type": "display_data",
          "data": {
            "text/plain": [
              "<Figure size 432x288 with 1 Axes>"
            ],
            "image/png": "[encoded data removed]"
          },
          "metadata": {
            "needs_background": "light"
          }
        }
      ],
      "source": [
        "months = [\"Jan\",\"Feb\",\"Mar\",\"Apr\",\"May\",\"Jun\",\"July\",\"Aug\",\"Sep\",\"Oct\",\"Nov\",\"Dec\"]\n",
        "monthwise_incident = ttc_data.groupby('Month')['Incident'].count().reset_index()\n",
        "monthwise_incident['Month'] = pd.Categorical(month_incident['Month'],categories=months)\n",
        "month_sorted = monthwise_incident.sort_values('Month')\n",
        "plt.bar('Month','Incident',data=month_sorted)\n",
        "plt.show()"
      ]
    },
    {
      "cell_type": "code",
      "execution_count": null,
      "id": "e3ae7acd",
      "metadata": {
        "id": "e3ae7acd"
      },
      "outputs": [],
      "source": [
        "months = [\"Jan\",\"Feb\",\"Mar\",\"Apr\",\"May\",\"Jun\",\"Jul\",\"Aug\",\"Sep\",\"Oct\",\"Nov\",\"Dec\"]\n"
      ]
    },
    {
      "cell_type": "code",
      "execution_count": null,
      "id": "f9a6f2bd",
      "metadata": {
        "colab": {
          "base_uri": "https://localhost:8080/"
        },
        "id": "f9a6f2bd",
        "outputId": "1c52f4c0-3112-41bd-e488-e803b98523c2"
      },
      "outputs": [
        {
          "output_type": "execute_result",
          "data": {
            "text/plain": [
              "Month           Incident                        \n",
              "Apr             Cleaning - Disinfection                1\n",
              "                Cleaning - Unsanitary                103\n",
              "                Collision - TTC                      225\n",
              "                Diversion                            137\n",
              "                Emergency Services                   158\n",
              "                General Delay                        145\n",
              "                Held By                               10\n",
              "                Investigation                         42\n",
              "                Late Entering Service                  3\n",
              "                Mechanical                          1098\n",
              "                Operations - Operator               1559\n",
              "                Road Blocked - NON-TTC Collision      84\n",
              "                Security                             246\n",
              "                Utilized Off Route                   107\n",
              "                Vision                                44\n",
              "Feb             Cleaning - Disinfection                1\n",
              "                Cleaning - Unsanitary                 49\n",
              "                Collision - TTC                      285\n",
              "                Diversion                            227\n",
              "                Emergency Services                   119\n",
              "                General Delay                        162\n",
              "                Held By                               38\n",
              "                Investigation                         67\n",
              "                Late Entering Service                  1\n",
              "                Mechanical                          1370\n",
              "                Operations - Operator               1071\n",
              "                Road Blocked - NON-TTC Collision      22\n",
              "                Security                             215\n",
              "                Utilized Off Route                    87\n",
              "                Vision                                56\n",
              "Jan             Cleaning - Disinfection                2\n",
              "                Cleaning - Unsanitary                 54\n",
              "                Collision - TTC                      325\n",
              "                Diversion                            260\n",
              "                Emergency Services                    98\n",
              "                General Delay                        222\n",
              "                Held By                               15\n",
              "                Investigation                         52\n",
              "                Late Entering Service                  4\n",
              "                Mechanical                          1455\n",
              "                Operations - Operator               2638\n",
              "                Road Blocked - NON-TTC Collision      22\n",
              "                Security                             181\n",
              "                Utilized Off Route                   140\n",
              "                Vision                                54\n",
              "Jun             Cleaning - Disinfection                1\n",
              "                Cleaning - Unsanitary                124\n",
              "                Collision - TTC                      280\n",
              "                Diversion                            217\n",
              "                Emergency Services                   182\n",
              "                General Delay                        200\n",
              "                Held By                                4\n",
              "                Investigation                         77\n",
              "                Late Entering Service                  5\n",
              "                Mechanical                          1435\n",
              "                Operations - Operator               1466\n",
              "                Road Blocked - NON-TTC Collision      55\n",
              "                Security                             251\n",
              "                Utilized Off Route                   265\n",
              "                Vision                                49\n",
              "Mar             Cleaning - Unsanitary                111\n",
              "                Collision - TTC                      244\n",
              "                Diversion                            139\n",
              "                Emergency Services                   144\n",
              "                General Delay                        110\n",
              "                Held By                               16\n",
              "                Investigation                         53\n",
              "                Late Entering Service                  5\n",
              "                Mechanical                          1290\n",
              "                Operations - Operator               1157\n",
              "                Road Blocked - NON-TTC Collision      66\n",
              "                Security                             255\n",
              "                Utilized Off Route                   244\n",
              "                Vision                                64\n",
              "May             Cleaning - Unsanitary                117\n",
              "                Collision - TTC                      237\n",
              "                Diversion                            190\n",
              "                Emergency Services                   176\n",
              "                General Delay                        147\n",
              "                Held By                                4\n",
              "                Investigation                         61\n",
              "                Late Entering Service                  5\n",
              "                Mechanical                          1244\n",
              "                Operations - Operator               1554\n",
              "                Road Blocked - NON-TTC Collision      58\n",
              "                Security                             267\n",
              "                Utilized Off Route                   189\n",
              "                Vision                                39\n",
              "Incident_count                                       NaN\n",
              "Name: Incident, dtype: object"
            ]
          },
          "metadata": {},
          "execution_count": 135
        }
      ],
      "source": [
        "monthwise_incident['Incident_count'] = ttc_data.groupby(['Month','Incident'])['Incident'].agg('count')\n",
        "monthwise_incident\n"
      ]
    },
    {
      "cell_type": "code",
      "execution_count": null,
      "id": "15cce3e7",
      "metadata": {
        "id": "15cce3e7"
      },
      "outputs": [],
      "source": []
    }
  ],
  "metadata": {
    "kernelspec": {
      "display_name": "Python 3 (ipykernel)",
      "language": "python",
      "name": "python3"
    },
    "language_info": {
      "codemirror_mode": {
        "name": "ipython",
        "version": 3
      },
      "file_extension": ".py",
      "mimetype": "text/x-python",
      "name": "python",
      "nbconvert_exporter": "python",
      "pygments_lexer": "ipython3",
      "version": "3.9.13"
    },
    "colab": {
      "provenance": [],
      "include_colab_link": true
    }
  },
  "nbformat": 4,
  "nbformat_minor": 5
}